{
  "nbformat": 4,
  "nbformat_minor": 0,
  "metadata": {
    "colab": {
      "name": "Regression from Scratch in Tensorflow.ipynb",
      "provenance": []
    },
    "kernelspec": {
      "name": "python3",
      "display_name": "Python 3"
    }
  },
  "cells": [
    {
      "cell_type": "code",
      "metadata": {
        "id": "UFXfbmAFpUIr"
      },
      "source": [
        "import tensorflow as tf\n",
        "import numpy as np\n",
        "import matplotlib.pyplot as plt\n",
        "%matplotlib inline"
      ],
      "execution_count": 1,
      "outputs": []
    },
    {
      "cell_type": "code",
      "metadata": {
        "id": "1hHU4bvFpWVh"
      },
      "source": [
        "true_w, true_b = 7.0, 4.0\n",
        "\n",
        "def create_batch(batch_size=64):\n",
        "    x = np.random.randn(batch_size, 1)\n",
        "    y = np.random.randn(batch_size, 1) + true_w * x + true_b\n",
        "    \n",
        "    return x, y"
      ],
      "execution_count": 2,
      "outputs": []
    },
    {
      "cell_type": "code",
      "metadata": {
        "id": "7wO0PWnfpeRr",
        "outputId": "45b1eda4-ca97-4fc2-b63a-78344a012128",
        "colab": {
          "base_uri": "https://localhost:8080/",
          "height": 266
        }
      },
      "source": [
        "x, y = create_batch()\n",
        "\n",
        "plt.plot(x, y, '.');"
      ],
      "execution_count": 3,
      "outputs": [
        {
          "output_type": "display_data",
          "data": {
            "image/png": "[encoded data removed]",
            "text/plain": [
              "<Figure size 432x288 with 1 Axes>"
            ]
          },
          "metadata": {
            "tags": [],
            "needs_background": "light"
          }
        }
      ]
    },
    {
      "cell_type": "code",
      "metadata": {
        "id": "N-cruv8Jpgal",
        "outputId": "6cf66f7b-e0fd-4a24-d9cb-272772ec8763",
        "colab": {
          "base_uri": "https://localhost:8080/",
          "height": 185
        }
      },
      "source": [
        "iterations = 100\n",
        "lr = 0.03\n",
        "\n",
        "w = tf.Variable(10.0)\n",
        "b = tf.Variable(1.0)\n",
        "\n",
        "param_history = {'w': [], 'b': []}\n",
        "\n",
        "for i in range(0, iterations):\n",
        "    x_batch, y_batch = create_batch()\n",
        "    x_batch = tf.constant(x_batch, dtype=tf.float32)\n",
        "    y_batch = tf.constant(y_batch, dtype=tf.float32)\n",
        "    with tf.GradientTape(persistent=True) as tape:\n",
        "        y = b + w * x_batch\n",
        "        loss = tf.reduce_mean(tf.square(y - y_batch))\n",
        "    dw = tape.gradient(loss, w)\n",
        "    db = tape.gradient(loss, b)\n",
        "    \n",
        "    del tape\n",
        "    \n",
        "    w.assign_sub(lr * dw)\n",
        "    b.assign_sub(lr * db)\n",
        "    \n",
        "    param_history['w'].append(w.numpy())\n",
        "    param_history['b'].append(b.numpy())\n",
        "    \n",
        "    if i%10==0:\n",
        "        print('At iter {}, w={}, b={}'.format(i, w.numpy(), b.numpy()))"
      ],
      "execution_count": 4,
      "outputs": [
        {
          "output_type": "stream",
          "text": [
            "At iter 0, w=9.805174827575684, b=1.2265901565551758\n",
            "At iter 10, w=8.473222732543945, b=2.5166432857513428\n",
            "At iter 20, w=7.838310241699219, b=3.182734727859497\n",
            "At iter 30, w=7.479685306549072, b=3.558891773223877\n",
            "At iter 40, w=7.261641025543213, b=3.7892439365386963\n",
            "At iter 50, w=7.132769584655762, b=3.9033560752868652\n",
            "At iter 60, w=7.045076847076416, b=3.9473743438720703\n",
            "At iter 70, w=7.035088062286377, b=4.0000786781311035\n",
            "At iter 80, w=7.0251994132995605, b=3.997976064682007\n",
            "At iter 90, w=6.992857933044434, b=3.9948551654815674\n"
          ],
          "name": "stdout"
        }
      ]
    },
    {
      "cell_type": "code",
      "metadata": {
        "id": "H0etXw0xpjZj",
        "outputId": "5b8563b3-cadf-4095-d2a2-ab2a6b396848",
        "colab": {
          "base_uri": "https://localhost:8080/",
          "height": 388
        }
      },
      "source": [
        "plt.figure(figsize=(6, 6))\n",
        "plt.plot(range(iterations), param_history['w'], label='Learned W')\n",
        "plt.plot(range(iterations), param_history['b'], label='Learned b')\n",
        "plt.plot(range(iterations), [true_w]*iterations, label='True W')\n",
        "plt.plot(range(iterations), [true_b]*iterations, label='True b')\n",
        "plt.xlabel('Training Iterations')\n",
        "plt.ylabel('Value')\n",
        "plt.legend()\n",
        "plt.show()"
      ],
      "execution_count": 5,
      "outputs": [
        {
          "output_type": "display_data",
          "data": {
            "image/png": "[encoded data removed]",
            "text/plain": [
              "<Figure size 432x432 with 1 Axes>"
            ]
          },
          "metadata": {
            "tags": [],
            "needs_background": "light"
          }
        }
      ]
    },
    {
      "cell_type": "code",
      "metadata": {
        "id": "dJSc9z42pp45"
      },
      "source": [
        ""
      ],
      "execution_count": null,
      "outputs": []
    }
  ]
}