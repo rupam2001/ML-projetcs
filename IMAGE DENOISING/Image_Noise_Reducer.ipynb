{
  "nbformat": 4,
  "nbformat_minor": 0,
  "metadata": {
    "colab": {
      "name": "Image Noise Reducer.ipynb",
      "provenance": []
    },
    "kernelspec": {
      "name": "python3",
      "display_name": "Python 3"
    },
    "accelerator": "TPU"
  },
  "cells": [
    {
      "cell_type": "code",
      "metadata": {
        "id": "-gIRomWC3eYr"
      },
      "source": [
        "import tensorflow as tf\n",
        "import numpy as np\n",
        "import matplotlib.pyplot as plt\n",
        "import random "
      ],
      "execution_count": 1,
      "outputs": []
    },
    {
      "cell_type": "code",
      "metadata": {
        "id": "HPist83r3q0n",
        "outputId": "199a424b-579f-4a87-821c-b57bb2406bc4",
        "colab": {
          "base_uri": "https://localhost:8080/",
          "height": 151
        }
      },
      "source": [
        "(X_train, y_train), (X_test, y_test) = tf.keras.datasets.fashion_mnist.load_data()\n"
      ],
      "execution_count": 2,
      "outputs": [
        {
          "output_type": "stream",
          "text": [
            "Downloading data from https://storage.googleapis.com/tensorflow/tf-keras-datasets/train-labels-idx1-ubyte.gz\n",
            "32768/29515 [=================================] - 0s 0us/step\n",
            "Downloading data from https://storage.googleapis.com/tensorflow/tf-keras-datasets/train-images-idx3-ubyte.gz\n",
            "26427392/26421880 [==============================] - 0s 0us/step\n",
            "Downloading data from https://storage.googleapis.com/tensorflow/tf-keras-datasets/t10k-labels-idx1-ubyte.gz\n",
            "8192/5148 [===============================================] - 0s 0us/step\n",
            "Downloading data from https://storage.googleapis.com/tensorflow/tf-keras-datasets/t10k-images-idx3-ubyte.gz\n",
            "4423680/4422102 [==============================] - 0s 0us/step\n"
          ],
          "name": "stdout"
        }
      ]
    },
    {
      "cell_type": "code",
      "metadata": {
        "id": "dXQu3hG03smd",
        "outputId": "17765c2c-a6cb-4968-840c-908d348d23db",
        "colab": {
          "base_uri": "https://localhost:8080/",
          "height": 282
        }
      },
      "source": [
        "i = random.randint(1,60000) \n",
        "plt.imshow( X_train[i] , cmap = 'gray') "
      ],
      "execution_count": 3,
      "outputs": [
        {
          "output_type": "execute_result",
          "data": {
            "text/plain": [
              "<matplotlib.image.AxesImage at 0x7fa34d3fb940>"
            ]
          },
          "metadata": {
            "tags": []
          },
          "execution_count": 3
        },
        {
          "output_type": "display_data",
          "data": {
            "image/png": "[encoded data removed]",
            "text/plain": [
              "<Figure size 432x288 with 1 Axes>"
            ]
          },
          "metadata": {
            "tags": [],
            "needs_background": "light"
          }
        }
      ]
    },
    {
      "cell_type": "code",
      "metadata": {
        "id": "1REwesxZ3xp9"
      },
      "source": [
        "X_train = X_train / 255\n",
        "X_test = X_test / 255"
      ],
      "execution_count": 4,
      "outputs": []
    },
    {
      "cell_type": "code",
      "metadata": {
        "id": "gPICz_T033nj"
      },
      "source": [
        "noise_factor = 0.2\n",
        "\n",
        "noise_dataset = []\n",
        "\n",
        "for img in X_train:\n",
        "  noisy_image = img + noise_factor * np.random.randn(*img.shape)\n",
        "  noisy_image = np.clip(noisy_image, 0., 1.)\n",
        "  noise_dataset.append(noisy_image)\n",
        "noise_dataset = np.array(noise_dataset)"
      ],
      "execution_count": 5,
      "outputs": []
    },
    {
      "cell_type": "code",
      "metadata": {
        "id": "qlz-IAYo388y",
        "outputId": "a97303d7-e019-42be-c1cd-e6944751bd66",
        "colab": {
          "base_uri": "https://localhost:8080/",
          "height": 282
        }
      },
      "source": [
        "plt.imshow(noise_dataset[1], cmap=\"gray\")"
      ],
      "execution_count": 6,
      "outputs": [
        {
          "output_type": "execute_result",
          "data": {
            "text/plain": [
              "<matplotlib.image.AxesImage at 0x7fa34ca4cc18>"
            ]
          },
          "metadata": {
            "tags": []
          },
          "execution_count": 6
        },
        {
          "output_type": "display_data",
          "data": {
            "image/png": "[encoded data removed]",
            "text/plain": [
              "<Figure size 432x288 with 1 Axes>"
            ]
          },
          "metadata": {
            "tags": [],
            "needs_background": "light"
          }
        }
      ]
    },
    {
      "cell_type": "code",
      "metadata": {
        "id": "PSru7kjt3-1q"
      },
      "source": [
        "noise_test_set = []\n",
        "for img in X_test:\n",
        "  noisy_image = img + noise_factor * np.random.randn(*img.shape)\n",
        "  noisy_image = np.clip(noisy_image, 0., 1.)\n",
        "  noise_test_set.append(noisy_image)\n",
        "  \n",
        "noise_test_set = np.array(noise_test_set)\n"
      ],
      "execution_count": 7,
      "outputs": []
    },
    {
      "cell_type": "code",
      "metadata": {
        "id": "HDVgeMJI4He3"
      },
      "source": [
        "autoencoder = tf.keras.models.Sequential()\n",
        "\n",
        "#Encoder\n",
        "autoencoder.add(tf.keras.layers.Conv2D(filters=16, kernel_size=3, strides=2, padding=\"same\", input_shape=(28, 28, 1)))\n",
        "autoencoder.add(tf.keras.layers.Conv2D(filters=8, kernel_size=3, strides=2, padding=\"same\"))\n",
        "\n",
        "#Encoded image\n",
        "autoencoder.add(tf.keras.layers.Conv2D(filters=8, kernel_size=3, strides=1, padding=\"same\"))\n",
        "\n",
        "#Decoder\n",
        "autoencoder.add(tf.keras.layers.Conv2DTranspose(filters=16, kernel_size=3, strides=2, padding=\"same\"))\n",
        "autoencoder.add(tf.keras.layers.Conv2DTranspose(filters=1, kernel_size=3, strides=2, activation='sigmoid', padding=\"same\"))"
      ],
      "execution_count": 8,
      "outputs": []
    },
    {
      "cell_type": "code",
      "metadata": {
        "id": "WcLUfR9n4LZq",
        "outputId": "5395d783-caf0-4a46-e452-625231f96ba3",
        "colab": {
          "base_uri": "https://localhost:8080/",
          "height": 319
        }
      },
      "source": [
        "autoencoder.compile(loss='binary_crossentropy', optimizer=tf.keras.optimizers.Adam(lr=0.001))\n",
        "autoencoder.summary()"
      ],
      "execution_count": 9,
      "outputs": [
        {
          "output_type": "stream",
          "text": [
            "Model: \"sequential\"\n",
            "_________________________________________________________________\n",
            "Layer (type)                 Output Shape              Param #   \n",
            "=================================================================\n",
            "conv2d (Conv2D)              (None, 14, 14, 16)        160       \n",
            "_________________________________________________________________\n",
            "conv2d_1 (Conv2D)            (None, 7, 7, 8)           1160      \n",
            "_________________________________________________________________\n",
            "conv2d_2 (Conv2D)            (None, 7, 7, 8)           584       \n",
            "_________________________________________________________________\n",
            "conv2d_transpose (Conv2DTran (None, 14, 14, 16)        1168      \n",
            "_________________________________________________________________\n",
            "conv2d_transpose_1 (Conv2DTr (None, 28, 28, 1)         145       \n",
            "=================================================================\n",
            "Total params: 3,217\n",
            "Trainable params: 3,217\n",
            "Non-trainable params: 0\n",
            "_________________________________________________________________\n"
          ],
          "name": "stdout"
        }
      ]
    },
    {
      "cell_type": "code",
      "metadata": {
        "id": "c2kq3zsN4NGl",
        "outputId": "e283af76-3517-450b-f6a4-4b31ed0c4664",
        "colab": {
          "base_uri": "https://localhost:8080/",
          "height": 706
        }
      },
      "source": [
        "autoencoder.fit(noise_dataset.reshape(-1, 28, 28, 1),          \n",
        "                X_train.reshape(-1, 28, 28, 1), \n",
        "                epochs=20, \n",
        "                batch_size=200, \n",
        "                validation_data=(noise_test_set.reshape(-1, 28, 28, 1), X_test.reshape(-1, 28, 28, 1)))\n"
      ],
      "execution_count": 11,
      "outputs": [
        {
          "output_type": "stream",
          "text": [
            "Epoch 1/20\n",
            "300/300 [==============================] - 12s 39ms/step - loss: 0.3075 - val_loss: 0.3048\n",
            "Epoch 2/20\n",
            "300/300 [==============================] - 11s 38ms/step - loss: 0.2994 - val_loss: 0.2993\n",
            "Epoch 3/20\n",
            "300/300 [==============================] - 11s 38ms/step - loss: 0.2952 - val_loss: 0.2960\n",
            "Epoch 4/20\n",
            "300/300 [==============================] - 11s 38ms/step - loss: 0.2928 - val_loss: 0.2941\n",
            "Epoch 5/20\n",
            "300/300 [==============================] - 11s 38ms/step - loss: 0.2912 - val_loss: 0.2927\n",
            "Epoch 6/20\n",
            "300/300 [==============================] - 11s 38ms/step - loss: 0.2900 - val_loss: 0.2918\n",
            "Epoch 7/20\n",
            "300/300 [==============================] - 12s 38ms/step - loss: 0.2892 - val_loss: 0.2912\n",
            "Epoch 8/20\n",
            "300/300 [==============================] - 11s 38ms/step - loss: 0.2887 - val_loss: 0.2907\n",
            "Epoch 9/20\n",
            "300/300 [==============================] - 11s 38ms/step - loss: 0.2883 - val_loss: 0.2903\n",
            "Epoch 10/20\n",
            "300/300 [==============================] - 11s 38ms/step - loss: 0.2880 - val_loss: 0.2901\n",
            "Epoch 11/20\n",
            "300/300 [==============================] - 11s 38ms/step - loss: 0.2877 - val_loss: 0.2898\n",
            "Epoch 12/20\n",
            "300/300 [==============================] - 12s 39ms/step - loss: 0.2875 - val_loss: 0.2896\n",
            "Epoch 13/20\n",
            "300/300 [==============================] - 12s 39ms/step - loss: 0.2873 - val_loss: 0.2894\n",
            "Epoch 14/20\n",
            "300/300 [==============================] - 12s 39ms/step - loss: 0.2871 - val_loss: 0.2893\n",
            "Epoch 15/20\n",
            "300/300 [==============================] - 12s 39ms/step - loss: 0.2870 - val_loss: 0.2891\n",
            "Epoch 16/20\n",
            "300/300 [==============================] - 12s 39ms/step - loss: 0.2868 - val_loss: 0.2889\n",
            "Epoch 17/20\n",
            "300/300 [==============================] - 12s 39ms/step - loss: 0.2867 - val_loss: 0.2891\n",
            "Epoch 18/20\n",
            "300/300 [==============================] - 12s 40ms/step - loss: 0.2866 - val_loss: 0.2888\n",
            "Epoch 19/20\n",
            "300/300 [==============================] - 12s 39ms/step - loss: 0.2866 - val_loss: 0.2889\n",
            "Epoch 20/20\n",
            "300/300 [==============================] - 12s 39ms/step - loss: 0.2865 - val_loss: 0.2886\n"
          ],
          "name": "stdout"
        },
        {
          "output_type": "execute_result",
          "data": {
            "text/plain": [
              "<tensorflow.python.keras.callbacks.History at 0x7fa341e8ab00>"
            ]
          },
          "metadata": {
            "tags": []
          },
          "execution_count": 11
        }
      ]
    },
    {
      "cell_type": "code",
      "metadata": {
        "id": "b7CB27od4O3U",
        "outputId": "42b7aedd-0aae-4864-df44-0998a1f94dd4",
        "colab": {
          "base_uri": "https://localhost:8080/",
          "height": 34
        }
      },
      "source": [
        "evaluation = autoencoder.evaluate(noise_test_set.reshape(-1, 28, 28, 1), X_test.reshape(-1, 28, 28, 1))"
      ],
      "execution_count": 12,
      "outputs": [
        {
          "output_type": "stream",
          "text": [
            "313/313 [==============================] - 1s 4ms/step - loss: 0.2886\n"
          ],
          "name": "stdout"
        }
      ]
    },
    {
      "cell_type": "code",
      "metadata": {
        "id": "U68g0OEI4lJs"
      },
      "source": [
        "predicted = autoencoder.predict(noise_test_set[:10].reshape(-1, 28, 28, 1))"
      ],
      "execution_count": 13,
      "outputs": []
    },
    {
      "cell_type": "code",
      "metadata": {
        "id": "KHVdanDb4lnx",
        "outputId": "c14b5055-8bc6-4b94-febd-e0af13933017",
        "colab": {
          "base_uri": "https://localhost:8080/",
          "height": 248
        }
      },
      "source": [
        "fig, axes = plt.subplots(nrows=2, ncols=10, sharex=True, sharey=True, figsize=(20,4))\n",
        "for images, row in zip([noise_test_set[:10], predicted], axes):\n",
        "    for img, ax in zip(images, row):\n",
        "        ax.imshow(img.reshape((28, 28)), cmap='Greys_r')\n",
        "        ax.get_xaxis().set_visible(False)\n",
        "        ax.get_yaxis().set_visible(False)"
      ],
      "execution_count": 14,
      "outputs": [
        {
          "output_type": "display_data",
          "data": {
            "image/png": "[encoded data removed]",
            "text/plain": [
              "<Figure size 1440x288 with 20 Axes>"
            ]
          },
          "metadata": {
            "tags": [],
            "needs_background": "light"
          }
        }
      ]
    },
    {
      "cell_type": "code",
      "metadata": {
        "id": "ItSmPk1G5VWL"
      },
      "source": [
        ""
      ],
      "execution_count": null,
      "outputs": []
    }
  ]
}